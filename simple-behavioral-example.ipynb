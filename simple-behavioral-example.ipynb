{
 "cells": [
  {
   "cell_type": "code",
   "execution_count": 1,
   "id": "ce0638be",
   "metadata": {},
   "outputs": [],
   "source": [
    "#- Scientific stack\n",
    "import numpy as np\n",
    "import matplotlib.pyplot as plt\n",
    "from dkps.dkps import DataKernelPerspectiveSpace\n",
    "\n",
    "#- Transformers / embedding models\n",
    "from sentence_transformers import SentenceTransformer\n",
    "from datasets import load_dataset\n",
    "\n",
    "import transformers\n",
    " \n",
    "#- Utils\n",
    "import gc\n",
    "import torch\n",
    "from tqdm import tqdm"
   ]
  },
  {
   "cell_type": "code",
   "execution_count": 2,
   "id": "7403b40a",
   "metadata": {},
   "outputs": [
    {
     "name": "stdout",
     "output_type": "stream",
     "text": [
      "[\"why doesn't an optical mouse work on a glass table?\", 'What is the best off-road motorcycle trail ?']\n"
     ]
    }
   ],
   "source": [
    "#- get some toy data\n",
    "n_queries=10\n",
    "query_set = load_dataset(\"yahoo_answers_topics\", split=f'train[:{n_queries}]', trust_remote_code=True)['question_title']\n",
    "print(query_set[:2])"
   ]
  },
  {
   "cell_type": "code",
   "execution_count": 3,
   "id": "e21a757f",
   "metadata": {},
   "outputs": [
    {
     "data": {
      "application/vnd.jupyter.widget-view+json": {
       "model_id": "04c747aa60a84a1bb3adef3944b22d5d",
       "version_major": 2,
       "version_minor": 0
      },
      "text/plain": [
       "Loading checkpoint shards:   0%|          | 0/4 [00:00<?, ?it/s]"
      ]
     },
     "metadata": {},
     "output_type": "display_data"
    },
    {
     "name": "stderr",
     "output_type": "stream",
     "text": [
      "Device set to use cuda:0\n",
      "Setting `pad_token_id` to `eos_token_id`:128009 for open-end generation.\n",
      "Setting `pad_token_id` to `eos_token_id`:128009 for open-end generation.\n",
      "Setting `pad_token_id` to `eos_token_id`:128009 for open-end generation.\n",
      "Setting `pad_token_id` to `eos_token_id`:128009 for open-end generation.\n",
      "Setting `pad_token_id` to `eos_token_id`:128009 for open-end generation.\n"
     ]
    }
   ],
   "source": [
    "#- picking arbtirary foundation model.\n",
    "if 'pipeline' not in locals():\n",
    "    pipeline = transformers.pipeline(task='text-generation', model='meta-llama/Llama-3.1-8B-Instruct')\n",
    "    pipeline.tokenizer.pad_token_id = 128009\n",
    "    pipeline.tokenizer.padding_side='left'\n",
    "\n",
    "generation_kwargs={\n",
    "        'batch_size':10,\n",
    "        'max_new_tokens':10,\n",
    "        'eos_token_id':128009,\n",
    "        'do_sample':True,\n",
    "        'temperature':1,\n",
    "        'num_return_sequences':5\n",
    "}\n",
    "\n",
    "message_list = [\n",
    "    #- Shortening queries arbitrarily to make faster\n",
    "    [{\"role\": \"user\", \"content\": q[:20]}] for q in query_set \n",
    "]\n",
    "\n",
    "n_models = 5\n",
    "output_dict = {}\n",
    "for i in range(n_models):\n",
    "    output_dict[i] = pipeline(message_list, **generation_kwargs)"
   ]
  },
  {
   "cell_type": "code",
   "execution_count": 4,
   "id": "5d33758f-8457-4a47-8b3a-6fbfe6bde705",
   "metadata": {},
   "outputs": [
    {
     "name": "stderr",
     "output_type": "stream",
     "text": [
      "<All keys matched successfully>\n"
     ]
    }
   ],
   "source": [
    "if 'embedding_model' not in locals():\n",
    "    embedding_model = SentenceTransformer('nomic-ai/nomic-embed-text-v1.5', trust_remote_code=True)\n",
    "\n",
    "\n",
    "response_dict = {}\n",
    "embedding_dict = {}\n",
    "for i in range(n_models):\n",
    "    response_dict[i] = []\n",
    "    embedding_dict[i] = []\n",
    "\n",
    "    for j in range(n_queries):\n",
    "        response_dict[i].append([o['generated_text'][-1]['content'] for o in output_dict[i][j]])\n",
    "        embedding_dict[i].append(embedding_model.encode(response_dict[i][j]))\n",
    "        \n",
    "    embedding_dict[i] = np.array(embedding_dict[i])"
   ]
  },
  {
   "cell_type": "code",
   "execution_count": 5,
   "id": "0cb62ccb-d084-4d1d-a445-dae351d4fae2",
   "metadata": {},
   "outputs": [
    {
     "data": {
      "text/plain": [
       "<matplotlib.collections.PathCollection at 0x7098b3e920e0>"
      ]
     },
     "execution_count": 5,
     "metadata": {},
     "output_type": "execute_result"
    },
    {
     "data": {
      "image/png": "[encoded data removed]",
      "text/plain": [
       "<Figure size 640x480 with 1 Axes>"
      ]
     },
     "metadata": {},
     "output_type": "display_data"
    }
   ],
   "source": [
    "DKPS = DataKernelPerspectiveSpace(np.mean, 1, 'euclidean', None, 2)\n",
    "dkps = DKPS.fit_transform(embedding_dict)\n",
    "\n",
    "plt.scatter(dkps[:, 0], dkps[:,1])"
   ]
  }
 ],
 "metadata": {
  "kernelspec": {
   "display_name": "helivan",
   "language": "python",
   "name": "helivan"
  },
  "language_info": {
   "codemirror_mode": {
    "name": "ipython",
    "version": 3
   },
   "file_extension": ".py",
   "mimetype": "text/x-python",
   "name": "python",
   "nbconvert_exporter": "python",
   "pygments_lexer": "ipython3",
   "version": "3.10.12"
  }
 },
 "nbformat": 4,
 "nbformat_minor": 5
}
